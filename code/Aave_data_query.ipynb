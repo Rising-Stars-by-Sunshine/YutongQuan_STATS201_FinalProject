{
  "nbformat": 4,
  "nbformat_minor": 0,
  "metadata": {
    "colab": {
      "provenance": []
    },
    "kernelspec": {
      "name": "python3",
      "display_name": "Python 3"
    },
    "language_info": {
      "name": "python"
    },
    "gpuClass": "standard"
  },
  "cells": [
    {
      "cell_type": "markdown",
      "source": [
        "Reference: https://www.alphavantage.co/documentation/#currency-daily"
      ],
      "metadata": {
        "id": "YeWAKq_23hSb"
      }
    },
    {
      "cell_type": "code",
      "execution_count": 1,
      "metadata": {
        "colab": {
          "base_uri": "https://localhost:8080/"
        },
        "id": "FNnde3tg22GO",
        "outputId": "32dec461-e2b8-456a-9497-db0d9f8da8cd"
      },
      "outputs": [
        {
          "output_type": "execute_result",
          "data": {
            "text/plain": [
              "('Aave_Daily_Historical_Time_Series.csv',\n",
              " <http.client.HTTPMessage at 0x7f1a41ddd490>)"
            ]
          },
          "metadata": {},
          "execution_count": 1
        }
      ],
      "source": [
        "from urllib import request\n",
        "\n",
        "# Define the remote file to retrieve\n",
        "remote_url = 'https://www.alphavantage.co/query?function=DIGITAL_CURRENCY_DAILY&symbol=AAVE&market=CNY&apikey=90UFYXKT4A6OCPSL&datatype=csv'\n",
        "\n",
        "# Define the local filename to save data\n",
        "local_file = 'Aave_Daily_Historical_Time_Series.csv'\n",
        "\n",
        "# Download remote and save locally\n",
        "request.urlretrieve(remote_url, local_file)"
      ]
    }
  ]
}